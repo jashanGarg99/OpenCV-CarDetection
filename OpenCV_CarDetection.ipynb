{
  "nbformat": 4,
  "nbformat_minor": 0,
  "metadata": {
    "colab": {
      "provenance": [],
      "authorship_tag": "ABX9TyMqc7b+Hy4List8c0FOzwDP",
      "include_colab_link": true
    },
    "kernelspec": {
      "name": "python3",
      "display_name": "Python 3"
    },
    "language_info": {
      "name": "python"
    }
  },
  "cells": [
    {
      "cell_type": "markdown",
      "metadata": {
        "id": "view-in-github",
        "colab_type": "text"
      },
      "source": [
        "<a href=\"https://colab.research.google.com/github/ManthanVerma7/OpenCV-CarDetection/blob/main/OpenCV_CarDetection.ipynb\" target=\"_parent\"><img src=\"https://colab.research.google.com/assets/colab-badge.svg\" alt=\"Open In Colab\"/></a>"
      ]
    },
    {
      "cell_type": "code",
      "source": [
        "import sys\n",
        "print(sys.executable)"
      ],
      "metadata": {
        "id": "q2OuYtTduM-F"
      },
      "execution_count": null,
      "outputs": []
    },
    {
      "cell_type": "code",
      "execution_count": null,
      "metadata": {
        "id": "fcjK89s8uK_r"
      },
      "outputs": [],
      "source": [
        "import cv2\n",
        "import time\n",
        "import numpy as np\n",
        "\n",
        "# Create our body classifier\n",
        "car_classifier = cv2.CascadeClassifier('Haarcascades\\haarcascade_car.xml')\n",
        "\n",
        "# Initiate video capture for video file\n",
        "cap = cv2.VideoCapture('images/cars.avi')\n",
        "\n",
        "\n",
        "# Loop once video is successfully loaded\n",
        "while cap.isOpened():\n",
        "\n",
        "    time.sleep(.05)\n",
        "    # Read first frame\n",
        "    ret, frame = cap.read()\n",
        "    gray = cv2.cvtColor(frame, cv2.COLOR_BGR2GRAY)\n",
        "\n",
        "    # Pass frame to our car classifier\n",
        "    cars = car_classifier.detectMultiScale(gray, 1.4, 2)\n",
        "\n",
        "    # Extract bounding boxes for any bodies identified\n",
        "    for (x,y,w,h) in cars:\n",
        "        cv2.rectangle(frame, (x, y), (x+w, y+h), (0, 255, 255), 2)\n",
        "        cv2.imshow('Cars', frame)\n",
        "\n",
        "    if cv2.waitKey(1) == 13: #13 is the Enter Key\n",
        "        break\n",
        "\n",
        "cap.release()\n",
        "cv2.destroyAllWindows()"
      ]
    }
  ]
}